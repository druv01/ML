{
 "cells": [
  {
   "cell_type": "code",
   "execution_count": 1,
   "metadata": {
    "application/vnd.databricks.v1+cell": {
     "cellMetadata": {},
     "inputWidgets": {},
     "nuid": "6445b8a9-ad37-4523-85da-5ec175e2efdf",
     "showTitle": false,
     "title": ""
    }
   },
   "outputs": [],
   "source": [
    "#!pip install scikeras"
   ]
  },
  {
   "cell_type": "code",
   "execution_count": 2,
   "metadata": {
    "application/vnd.databricks.v1+cell": {
     "cellMetadata": {},
     "inputWidgets": {},
     "nuid": "bd5480ff-a26e-44c7-a7c2-f42fc5433843",
     "showTitle": false,
     "title": ""
    }
   },
   "outputs": [],
   "source": [
    "#!pip install tensorflow"
   ]
  },
  {
   "cell_type": "code",
   "execution_count": 3,
   "metadata": {
    "application/vnd.databricks.v1+cell": {
     "cellMetadata": {},
     "inputWidgets": {},
     "nuid": "7ca3a7a5-7572-44ef-aa67-d104a3f50b60",
     "showTitle": false,
     "title": ""
    }
   },
   "outputs": [],
   "source": [
    "#!pip install xgboost\n"
   ]
  },
  {
   "cell_type": "code",
   "execution_count": 4,
   "metadata": {
    "application/vnd.databricks.v1+cell": {
     "cellMetadata": {},
     "inputWidgets": {},
     "nuid": "30ed0342-981a-4d37-b7e6-53514ee9e666",
     "showTitle": false,
     "title": ""
    }
   },
   "outputs": [],
   "source": [
    "import pandas as pd\n",
    "import numpy as np\n",
    "\n",
    "# JSON parsing\n",
    "import json\n",
    "\n",
    "# HTML parsing\n",
    "import urllib\n",
    "\n",
    "from pyspark.ml.feature import StringIndexer\n",
    "\n",
    "# SQLite RDBMS\n",
    "import sqlite3\n",
    "\n",
    "# Time conversions\n",
    "import time\n",
    "\n",
    "import sys\n",
    "from pathlib import Path\n"
   ]
  },
  {
   "cell_type": "code",
   "execution_count": 5,
   "metadata": {},
   "outputs": [],
   "source": [
    "from pyspark.sql import SparkSession\n",
    "\n",
    "spark = SparkSession.builder.appName(\"bosch\").config(\"spark.driver.memory\", \"58g\")\n",
    "spark.config(\"spark.sql.autoBroadcastJoinThreshold\", -1)\n",
    "spark = spark.getOrCreate()\n"
   ]
  },
  {
   "cell_type": "code",
   "execution_count": 6,
   "metadata": {
    "application/vnd.databricks.v1+cell": {
     "cellMetadata": {},
     "inputWidgets": {},
     "nuid": "f0434aba-669c-46ab-93f8-c7e1b64bff71",
     "showTitle": false,
     "title": ""
    }
   },
   "outputs": [],
   "source": [
    "#dbutils.fs.mount(\n",
    "#  source = \"wasbs://prod@storagebosch.blob.core.windows.net\",\n",
    "#  mount_point = \"/mnt/prod\",\n",
    "#  extra_configs = {\"fs.azure.account.key.storagebosch.blob.core.windows.net\":\"whVS/3uSPo+pCWof4+AivjFcrisJqobCqOJdFZHoI551sTK982NCG1OgpjltwkTlZeJQKONeGTwl+AStANOAxA==\"})\n"
   ]
  },
  {
   "cell_type": "code",
   "execution_count": 7,
   "metadata": {
    "application/vnd.databricks.v1+cell": {
     "cellMetadata": {},
     "inputWidgets": {},
     "nuid": "a237bfe9-3815-4090-93ea-c2abe7685e70",
     "showTitle": false,
     "title": ""
    }
   },
   "outputs": [],
   "source": [
    "#dbutils.fs.ls(\"/mnt/prod/\")\n"
   ]
  },
  {
   "cell_type": "code",
   "execution_count": 8,
   "metadata": {
    "application/vnd.databricks.v1+cell": {
     "cellMetadata": {},
     "inputWidgets": {},
     "nuid": "fc3a5f86-be7b-4828-8da7-f3f6f83d4e2e",
     "showTitle": false,
     "title": ""
    }
   },
   "outputs": [],
   "source": [
    "############### 1. Data Aquisition   ##############\n"
   ]
  },
  {
   "cell_type": "code",
   "execution_count": 9,
   "metadata": {
    "application/vnd.databricks.v1+cell": {
     "cellMetadata": {},
     "inputWidgets": {},
     "nuid": "bed20cb1-74b0-4b1b-ab05-dbf1f1193fe3",
     "showTitle": false,
     "title": ""
    }
   },
   "outputs": [],
   "source": [
    "# Read Numeric dataset\n",
    "from pyspark.sql.types import *\n",
    "\n",
    "colnames = spark.read.csv(\"train_numeric.csv\", header=True, inferSchema=True).columns\n",
    "schema = StructType([StructField(\"Id\", IntegerType())] + [StructField(col, DoubleType()) for col in colnames if col != \"Id\"])\n",
    "df_numeric = spark.read.csv(\"train_numeric.csv\", header=True, schema=schema)\n",
    "\n",
    "df_numeric = df_numeric.sample(False, 0.1, seed=123)\n"
   ]
  },
  {
   "cell_type": "code",
   "execution_count": 10,
   "metadata": {
    "application/vnd.databricks.v1+cell": {
     "cellMetadata": {},
     "inputWidgets": {},
     "nuid": "33bcbd59-9165-48a5-8125-454b46f226e3",
     "showTitle": false,
     "title": ""
    }
   },
   "outputs": [],
   "source": [
    "# Read Categorical dataset\n",
    "\n",
    "from pyspark.sql.types import *\n",
    "\n",
    "colnames = spark.read.csv(\"train_categorical.csv\", header=True, inferSchema=True).columns\n",
    "schema = StructType([StructField(\"Id\", IntegerType())] + [StructField(col, StringType()) for col in colnames if col != \"Id\"])\n",
    "df_category = spark.read.csv(\"train_categorical.csv\", header=True, schema=schema)\n"
   ]
  },
  {
   "cell_type": "code",
   "execution_count": 11,
   "metadata": {
    "application/vnd.databricks.v1+cell": {
     "cellMetadata": {},
     "inputWidgets": {},
     "nuid": "66e18573-76d5-404f-a298-b2079cf500f3",
     "showTitle": false,
     "title": ""
    }
   },
   "outputs": [],
   "source": [
    "# Read Date dataset\n",
    "from pyspark.sql.types import *\n",
    "\n",
    "colnames = spark.read.csv(\"train_date.csv\", header=True, inferSchema=True).columns\n",
    "schema = StructType([StructField(\"Id\", IntegerType())] + [StructField(col, DoubleType()) for col in colnames if col != \"Id\"])\n",
    "df_date = spark.read.csv(\"train_date.csv\", header=True, schema=schema)\n"
   ]
  },
  {
   "cell_type": "code",
   "execution_count": 12,
   "metadata": {},
   "outputs": [],
   "source": [
    "############## 2. Exploratory analysis ##############"
   ]
  },
  {
   "cell_type": "code",
   "execution_count": null,
   "metadata": {},
   "outputs": [],
   "source": [
    "# Plot distribution of 3 datasets"
   ]
  },
  {
   "cell_type": "code",
   "execution_count": 13,
   "metadata": {
    "application/vnd.databricks.v1+cell": {
     "cellMetadata": {},
     "inputWidgets": {},
     "nuid": "0885b4d0-08ca-4c66-bee3-94956f76d9d9",
     "showTitle": false,
     "title": ""
    }
   },
   "outputs": [
    {
     "data": {
      "image/png": "[encoded data removed]",
      "text/plain": [
       "<Figure size 640x480 with 1 Axes>"
      ]
     },
     "metadata": {},
     "output_type": "display_data"
    }
   ],
   "source": [
    "import matplotlib.pyplot as plt\n",
    "\n",
    "# Data to plot\n",
    "labels = 'Numeric', 'Date', 'Categorical'\n",
    "sizes = [len(df_numeric.columns) -1, len(df_date.columns)-1, len(df_category.columns)-1]\n",
    "colors = ['yellowgreen', 'gold', 'lightskyblue']\n",
    "\n",
    "# Plot\n",
    "plt.pie(sizes, labels=labels, colors=colors,\n",
    "autopct='%1.1f%%', shadow=True, startangle=140)\n",
    "\n",
    "plt.axis('equal')\n",
    "plt.show()\n"
   ]
  },
  {
   "cell_type": "code",
   "execution_count": null,
   "metadata": {
    "application/vnd.databricks.v1+cell": {
     "cellMetadata": {},
     "inputWidgets": {},
     "nuid": "2b58f8b4-e938-4591-98d2-2bd7d319ba23",
     "showTitle": false,
     "title": ""
    }
   },
   "outputs": [],
   "source": [
    "# Plot how many null values and valid values"
   ]
  },
  {
   "cell_type": "code",
   "execution_count": 14,
   "metadata": {},
   "outputs": [],
   "source": [
    "# Import required functions\n",
    "from pyspark.sql.functions import col, sum\n",
    "\n",
    "# Calculate the number of missing values in the numeric columns\n",
    "null_counts = df_numeric.agg(*[sum(col(c).isNull().cast(\"int\")).alias(c) for c in df_numeric.columns])\n",
    "null_numeric = null_counts.toPandas().values.sum()\n",
    "\n",
    "# Calculate the number of missing values in the date columns\n",
    "null_counts = df_date.agg(*[sum(col(c).isNull().cast(\"int\")).alias(c) for c in df_date.columns])\n",
    "null_date = null_counts.toPandas().values.sum()\n",
    "\n",
    "# Calculate the number of missing values in the categorical columns\n",
    "null_counts = df_category.agg(*[sum(col(c).isNull().cast(\"int\")).alias(c) for c in df_category.columns])\n",
    "null_category = null_counts.toPandas().values.sum()\n",
    "\n",
    "# Store the number of missing values in a list\n",
    "null_values = [null_numeric, null_date, null_category]\n",
    "\n",
    "# Store all dataframes in a list\n",
    "df_list = [df_numeric, df_date, df_category]\n",
    "\n",
    "# Calculate the total number of values in each dataframe\n",
    "total_values = []\n",
    "for d in df_list:\n",
    "    total_values.append(d.count() * len(d.columns))"
   ]
  },
  {
   "cell_type": "code",
   "execution_count": 15,
   "metadata": {},
   "outputs": [
    {
     "data": {
      "image/png": "[encoded data removed]",
      "text/plain": [
       "<Figure size 640x480 with 1 Axes>"
      ]
     },
     "metadata": {},
     "output_type": "display_data"
    }
   ],
   "source": [
    "import matplotlib.pyplot as plt\n",
    "import numpy as np\n",
    "\n",
    "# Create the chart\n",
    "fig, ax = plt.subplots()\n",
    "x = np.arange(len(total_values))\n",
    "bar_width = 0.35\n",
    "rects1 = ax.bar(x - bar_width/2, total_values, bar_width, label='Valid values')\n",
    "rects2 = ax.bar(x + bar_width/2, null_values, bar_width, label='Null values')\n",
    "\n",
    "# Add labels and legend\n",
    "ax.set_ylabel('Count')\n",
    "ax.set_xlabel('Data set')\n",
    "ax.set_xticks(x)\n",
    "ax.legend()\n",
    "\n",
    "# Show the chart\n",
    "plt.show()"
   ]
  },
  {
   "cell_type": "code",
   "execution_count": null,
   "metadata": {},
   "outputs": [],
   "source": []
  },
  {
   "cell_type": "code",
   "execution_count": null,
   "metadata": {},
   "outputs": [],
   "source": [
    "############## 3. Data Preparation    ############################"
   ]
  },
  {
   "cell_type": "code",
   "execution_count": 16,
   "metadata": {},
   "outputs": [],
   "source": [
    "## Stratified sampling to resolve imbalanced dataset ############"
   ]
  },
  {
   "cell_type": "code",
   "execution_count": 17,
   "metadata": {},
   "outputs": [],
   "source": [
    "from pyspark.sql.functions import rand\n",
    "\n",
    "# First, we need to count the number of instances of each class in the label column\n",
    "counts = df_numeric.groupBy(\"Response\").count()\n",
    "\n",
    "# Calculate the number of instances we want to keep for each class\n",
    "minority_count = counts.filter(col(\"Response\") == 1).collect()[0][1]\n",
    "majority_count = counts.filter(col(\"Response\") == 0).collect()[0][1]\n",
    "\n",
    "# Downsample the majority class\n",
    "downsampled_majority = df_numeric.filter((col(\"Response\") == 0)).orderBy(rand()).limit(minority_count)\n",
    "\n",
    "# Combine the minority and downsampled majority classes\n",
    "stratified_sampled_df = df_numeric.filter(col(\"Response\") == 1).union(downsampled_majority)\n",
    "\n",
    "df_numeric = stratified_sampled_df\n",
    "\n",
    "#display(df_numeric.head())"
   ]
  },
  {
   "cell_type": "code",
   "execution_count": 18,
   "metadata": {},
   "outputs": [],
   "source": [
    "# Join the two dataframes on the Id column\n",
    "merged_df = df_date.join(stratified_sampled_df, on='Id', how='inner')\n",
    "\n",
    "# Select only the columns from df_date\n",
    "df_date = merged_df.select(df_date.columns)\n",
    "\n",
    "#display(df_date.head())"
   ]
  },
  {
   "cell_type": "code",
   "execution_count": 19,
   "metadata": {},
   "outputs": [],
   "source": [
    "# Join the two dataframes on the Id column\n",
    "merged_df = df_category.join(stratified_sampled_df, on='Id', how='inner')\n",
    "\n",
    "# Select only the columns from df_date\n",
    "df_category = merged_df.select(df_category.columns)\n",
    "#display(df_category.head())"
   ]
  },
  {
   "cell_type": "code",
   "execution_count": null,
   "metadata": {},
   "outputs": [],
   "source": []
  },
  {
   "cell_type": "code",
   "execution_count": null,
   "metadata": {
    "application/vnd.databricks.v1+cell": {
     "cellMetadata": {},
     "inputWidgets": {},
     "nuid": "61e98a51-35a0-4161-8f7c-e13e0cb08e73",
     "showTitle": false,
     "title": ""
    }
   },
   "outputs": [],
   "source": [
    "#### Data cleaning"
   ]
  },
  {
   "cell_type": "code",
   "execution_count": 28,
   "metadata": {},
   "outputs": [],
   "source": [
    "##### Dimensionality reduction of numeric dataset"
   ]
  },
  {
   "cell_type": "code",
   "execution_count": 21,
   "metadata": {
    "application/vnd.databricks.v1+cell": {
     "cellMetadata": {},
     "inputWidgets": {},
     "nuid": "fe96d511-c911-4a10-8364-6e4e2a2f7e9c",
     "showTitle": false,
     "title": ""
    }
   },
   "outputs": [],
   "source": [
    "df_category = df_category.na.fill('NA')"
   ]
  },
  {
   "cell_type": "code",
   "execution_count": 22,
   "metadata": {
    "application/vnd.databricks.v1+cell": {
     "cellMetadata": {},
     "inputWidgets": {},
     "nuid": "6ef284a9-6424-4d26-bf62-23d2eae6cf0a",
     "showTitle": false,
     "title": ""
    }
   },
   "outputs": [],
   "source": [
    "df_date = df_date.na.fill(0)"
   ]
  },
  {
   "cell_type": "code",
   "execution_count": 23,
   "metadata": {
    "application/vnd.databricks.v1+cell": {
     "cellMetadata": {},
     "inputWidgets": {},
     "nuid": "d1ec60d9-f23c-477d-9a4c-2390e1f61546",
     "showTitle": false,
     "title": ""
    }
   },
   "outputs": [],
   "source": [
    "df_numeric = df_numeric.na.fill(0)"
   ]
  },
  {
   "cell_type": "code",
   "execution_count": null,
   "metadata": {},
   "outputs": [],
   "source": []
  },
  {
   "cell_type": "code",
   "execution_count": 27,
   "metadata": {},
   "outputs": [],
   "source": [
    "############## 4. Feature Extraction    ############################"
   ]
  },
  {
   "cell_type": "code",
   "execution_count": null,
   "metadata": {},
   "outputs": [],
   "source": [
    "#### Scale the data set of PCA"
   ]
  },
  {
   "cell_type": "code",
   "execution_count": 30,
   "metadata": {},
   "outputs": [],
   "source": [
    "from pyspark.ml import Pipeline\n",
    "from pyspark.ml.feature import StandardScaler\n",
    "\n",
    "#df_numeric = df_numeric.drop('features')\n",
    "\n",
    "cols = [col for col in df_numeric.columns if col != 'Id' and col != 'Response']\n",
    "\n",
    "from pyspark.ml.feature import VectorAssembler\n",
    "assembler = VectorAssembler(\n",
    "  inputCols = cols,\n",
    "  outputCol = \"features\")\n",
    "\n",
    "#Standardizing the features based on unit variance\n",
    "scaler = StandardScaler(inputCol=\"features\", outputCol=\"scaled_features\", withStd=True, withMean=True)\n",
    "\n",
    "stages = [assembler, scaler]\n",
    "pipeline = Pipeline(stages=stages)\n",
    "# Fit the pipeline on the input DataFrame\n",
    "df_numeric = pipeline.fit(df_numeric).transform(df_numeric)"
   ]
  },
  {
   "cell_type": "code",
   "execution_count": null,
   "metadata": {},
   "outputs": [],
   "source": [
    "#### PCA"
   ]
  },
  {
   "cell_type": "code",
   "execution_count": 31,
   "metadata": {},
   "outputs": [
    {
     "data": {
      "image/png": "[encoded data removed]",
      "text/plain": [
       "<Figure size 640x480 with 1 Axes>"
      ]
     },
     "metadata": {},
     "output_type": "display_data"
    }
   ],
   "source": [
    "from pyspark.ml.feature import PCA\n",
    "from pyspark.sql import SparkSession\n",
    "import matplotlib.pyplot as plt\n",
    "from pyspark.ml.linalg import VectorUDT\n",
    "from pyspark.ml.linalg import Vectors, VectorUDT\n",
    "from pyspark.sql import SparkSession, functions as F\n",
    "from pyspark.sql.functions import array\n",
    "import numpy as np\n",
    "\n",
    "df_numeric = df_numeric.drop('features')\n",
    "\n",
    "#Create instance of PCA\n",
    "pca = PCA(k=len(df_numeric.columns) - 4 , inputCol=\"scaled_features\", outputCol=\"pca_num_features\")\n",
    "\n",
    "# fit PCA model on dense features\n",
    "pca_model = pca.fit(df_numeric)\n",
    "\n",
    "#Transform the DataFrame\n",
    "df_numeric = pca_model.transform(df_numeric)\n",
    "\n",
    "# access the explained variance ratio for each principal component\n",
    "explained_variance = pca_model.explainedVariance\n",
    "pc_vs_variance = np.cumsum(pca_model.explainedVariance)\n",
    "\n",
    "# plot the explained variance ratio\n",
    "plt.plot(pc_vs_variance)\n",
    "plt.xlabel('Number of Principal Components - Numeric')\n",
    "plt.ylabel('Explained Variance Ratio')\n",
    "plt.show()"
   ]
  },
  {
   "cell_type": "code",
   "execution_count": null,
   "metadata": {},
   "outputs": [],
   "source": [
    "#### Reduce to 400 features per the explained variance ratio"
   ]
  },
  {
   "cell_type": "code",
   "execution_count": 32,
   "metadata": {},
   "outputs": [],
   "source": [
    "df_numeric = df_numeric.drop('pca_num_features')\n",
    "\n",
    "#Create instance of PCA\n",
    "pca = PCA(k=400 , inputCol=\"scaled_features\", outputCol=\"pca_num_features\")\n",
    "\n",
    "# fit PCA model on dense features\n",
    "pca_model = pca.fit(df_numeric)\n",
    "\n",
    "#Transform the DataFrame\n",
    "df_numeric = pca_model.transform(df_numeric)"
   ]
  },
  {
   "cell_type": "code",
   "execution_count": null,
   "metadata": {},
   "outputs": [],
   "source": []
  },
  {
   "cell_type": "code",
   "execution_count": 34,
   "metadata": {},
   "outputs": [],
   "source": [
    "####### Dimensionality reduction of date dataset"
   ]
  },
  {
   "cell_type": "code",
   "execution_count": 37,
   "metadata": {},
   "outputs": [],
   "source": [
    "from pyspark.ml import Pipeline\n",
    "from pyspark.ml.feature import StandardScaler\n",
    "from pyspark.ml.feature import VectorAssembler\n",
    "\n",
    "cols = [col for col in df_date.columns if col != 'Id' and col != 'Response']\n",
    "\n",
    "#df_date = df_date.drop('features', 'scaled_features')\n",
    "\n",
    "assembler = VectorAssembler(\n",
    "  inputCols = cols,\n",
    "  outputCol = \"features\")\n",
    "\n",
    "#Standardizing the features based on unit variance\n",
    "scaler = StandardScaler(inputCol=\"features\", outputCol=\"scaled_features\", withStd=True, withMean=True)\n",
    "\n",
    "# Fit the pipeline on the input DataFrame\n",
    "stages = [assembler, scaler]\n",
    "pipeline = Pipeline(stages=stages)\n",
    "\n",
    "# Fit the pipeline on the input DataFrame\n",
    "df_date = pipeline.fit(df_date).transform(df_date)"
   ]
  },
  {
   "cell_type": "code",
   "execution_count": 38,
   "metadata": {},
   "outputs": [],
   "source": [
    "#### PCA - date  dataset"
   ]
  },
  {
   "cell_type": "code",
   "execution_count": 39,
   "metadata": {},
   "outputs": [
    {
     "data": {
      "image/png": "[encoded data removed]",
      "text/plain": [
       "<Figure size 1000x1200 with 1 Axes>"
      ]
     },
     "metadata": {},
     "output_type": "display_data"
    }
   ],
   "source": [
    "from pyspark.ml.feature import PCA\n",
    "from pyspark.sql import SparkSession\n",
    "import matplotlib.pyplot as plt\n",
    "from pyspark.ml.linalg import VectorUDT\n",
    "from pyspark.ml.linalg import Vectors, VectorUDT\n",
    "from pyspark.sql import SparkSession, functions as F\n",
    "from pyspark.sql.functions import array\n",
    "import numpy as np\n",
    "\n",
    "df_date = df_date.drop('pca_features', 'features')\n",
    "\n",
    "#Create instance of PCA\n",
    "pca = PCA(k=len(df_date.columns) - 3, inputCol=\"scaled_features\", outputCol=\"pca_cat_features\")\n",
    "\n",
    "# fit PCA model on dense features\n",
    "pca_model = pca.fit(df_date)\n",
    "\n",
    "#Transform the DataFrame\n",
    "df_date = pca_model.transform(df_date)\n",
    "\n",
    "# access the explained variance ratio for each principal component\n",
    "explained_variance = pca_model.explainedVariance\n",
    "pc_vs_variance = np.cumsum(pca_model.explainedVariance)\n",
    "\n",
    "# plot the explained variance ratio\n",
    "fig = plt.figure(figsize=(10, 12))\n",
    "plt.plot(pc_vs_variance)\n",
    "plt.xlabel('Number of Principal Components - Date')\n",
    "plt.ylabel('Explained Variance Ratio')\n",
    "plt.show()"
   ]
  },
  {
   "cell_type": "code",
   "execution_count": 40,
   "metadata": {},
   "outputs": [],
   "source": [
    "#### Reduce to 10 features per the explained variance ratio"
   ]
  },
  {
   "cell_type": "code",
   "execution_count": 41,
   "metadata": {},
   "outputs": [],
   "source": [
    "df_date = df_date.drop('pca_features', 'features')\n",
    "\n",
    "#Create instance of PCA\n",
    "pca = PCA(k=10 , inputCol=\"scaled_features\", outputCol=\"pca_date_features\")\n",
    "\n",
    "# fit PCA model on dense features\n",
    "pca_model = pca.fit(df_date)\n",
    "\n",
    "#Transform the DataFrame\n",
    "df_date = pca_model.transform(df_date)"
   ]
  },
  {
   "cell_type": "code",
   "execution_count": null,
   "metadata": {},
   "outputs": [],
   "source": []
  },
  {
   "cell_type": "code",
   "execution_count": 42,
   "metadata": {},
   "outputs": [],
   "source": [
    "####### Dimensionality reduction of category dataset #####"
   ]
  },
  {
   "cell_type": "code",
   "execution_count": 43,
   "metadata": {},
   "outputs": [],
   "source": [
    "### Reduce to 10 coulmns beceuase of resource constraints\n",
    "df_category = df_category.select(df_category.columns[:10])\n"
   ]
  },
  {
   "cell_type": "code",
   "execution_count": 44,
   "metadata": {},
   "outputs": [],
   "source": [
    "from pyspark.ml import Pipeline\n",
    "from pyspark.ml.feature import StandardScaler\n",
    "\n",
    "cols = [col for col in df_category.columns if col != 'Id' and col != 'Response']\n",
    "\n",
    "#df_category = df_category.drop('features', 'scaled_features')\n",
    "\n",
    "from pyspark.ml import Pipeline\n",
    "from pyspark.ml.feature import StringIndexer\n",
    "\n",
    "category_cols =[column for column in df_category.columns if column !='Id']\n",
    "string_indexer = [StringIndexer(inputCol=column, outputCol=column+\"_index\") for column in category_cols ]\n",
    "\n",
    "# Fit the pipeline on the input DataFrame\n",
    "pipeline = Pipeline(stages=string_indexer)\n",
    "df_category = pipeline.fit(df_category).transform(df_category)\n"
   ]
  },
  {
   "cell_type": "code",
   "execution_count": null,
   "metadata": {},
   "outputs": [],
   "source": []
  },
  {
   "cell_type": "code",
   "execution_count": 50,
   "metadata": {},
   "outputs": [],
   "source": [
    "# one-hot-encode category columns\n",
    "from pyspark.ml.feature import OneHotEncoder, VectorAssembler\n",
    "from pyspark.ml import Pipeline\n",
    "\n",
    "df_category = df_category.drop('L0_S2_F33_index', 'L0_S2_F35_index', 'L0_S2_F37_index', 'L0_S2_F39_index', 'L0_S2_F41_index')\n",
    "\n",
    "categorical_columns = [col for col in df_category.columns if col.endswith('_index')]\n",
    "encoders = []\n",
    "\n",
    "# Loop through the categorical columns\n",
    "for col in categorical_columns:  \n",
    "    # Create a OneHotEncoder for the column\n",
    "    encoder = OneHotEncoder(inputCol=col, outputCol=col + \"_vec\")\n",
    "    encoders.append(encoder)\n",
    "\n",
    "# Create a VectorAssembler to combine the one-hot encoded columns\n",
    "assembler = VectorAssembler(inputCols=[encoder.getOutputCol() for encoder in encoders], outputCol=\"features\")\n",
    "\n",
    "# Create a Pipeline to chain the indexers and encoders together\n",
    "pipeline = Pipeline(stages=encoders + [assembler])\n",
    "\n",
    "# Fit the pipeline on the input DataFrame\n",
    "df_category = pipeline.fit(df_category).transform(df_category)\n",
    "\n",
    "#df_category =  df_category.select(['Id'] + [col for col in df_category.columns if col.endswith('_vec')])"
   ]
  },
  {
   "cell_type": "code",
   "execution_count": null,
   "metadata": {},
   "outputs": [],
   "source": [
    "####### PCA  Category dataset"
   ]
  },
  {
   "cell_type": "code",
   "execution_count": null,
   "metadata": {},
   "outputs": [],
   "source": [
    "from pyspark.ml.feature import PCA\n",
    "from pyspark.sql import SparkSession\n",
    "import matplotlib.pyplot as plt\n",
    "from pyspark.ml.linalg import VectorUDT\n",
    "from pyspark.ml.linalg import Vectors, VectorUDT\n",
    "from pyspark.sql import SparkSession, functions as F\n",
    "from pyspark.sql.functions import array\n",
    "import numpy as np\n",
    "\n",
    "#df_category = df_category.drop('pca_features', 'features')\n",
    "\n",
    "#Create instance of PCA\n",
    "pca = PCA(k=4 , inputCol= 'features', outputCol=\"pca_cat_features\")\n",
    "\n",
    "# fit PCA model on dense features\n",
    "pca_model = pca.fit(df_category)\n",
    "\n",
    "#Transform the DataFrame\n",
    "df_category = pca_model.transform(df_category)\n",
    "\n",
    "# access the explained variance ratio for each principal component\n",
    "explained_variance = pca_model.explainedVariance\n",
    "pc_vs_variance = np.cumsum(pca_model.explainedVariance)\n",
    "\n",
    "# plot the explained variance ratio\n",
    "plt.plot(pc_vs_variance)\n",
    "plt.xlabel('Number of Principal Components')\n",
    "plt.ylabel('Explained Variance Ratio')\n",
    "plt.show()"
   ]
  },
  {
   "cell_type": "code",
   "execution_count": null,
   "metadata": {},
   "outputs": [],
   "source": []
  },
  {
   "cell_type": "code",
   "execution_count": null,
   "metadata": {},
   "outputs": [],
   "source": [
    "### Category data is ignored as it has no impact"
   ]
  },
  {
   "cell_type": "code",
   "execution_count": null,
   "metadata": {},
   "outputs": [],
   "source": [
    "###################### Data Integration ###########################"
   ]
  },
  {
   "cell_type": "code",
   "execution_count": 52,
   "metadata": {},
   "outputs": [],
   "source": [
    "from pyspark.ml.linalg import Vectors\n",
    "from pyspark.ml.feature import VectorAssembler\n",
    "\n",
    "df_numeric = df_numeric.select([\"Id\", \"Response\", \"pca_num_features\"])\n",
    "df_date = df_date.select([\"Id\", \"pca_date_features\"])\n",
    "df_merged = df_numeric.join(df_date, on='Id', how='inner')#.join(df_category, on='Id', how='inner')\n",
    "\n",
    "\n",
    "vectorAssembler = VectorAssembler(inputCols=[\"pca_num_features\", \"pca_date_features\"],\n",
    "                                  outputCol=\"pca_features\")\n",
    "\n",
    "df_merged = vectorAssembler.transform(df_merged)\n",
    "df = df_merged.select([\"Response\", \"pca_features\"])\n",
    "\n",
    "#print(df_merged.count())"
   ]
  },
  {
   "cell_type": "code",
   "execution_count": null,
   "metadata": {},
   "outputs": [],
   "source": []
  },
  {
   "cell_type": "code",
   "execution_count": 53,
   "metadata": {},
   "outputs": [],
   "source": [
    "########################################################"
   ]
  },
  {
   "cell_type": "code",
   "execution_count": 54,
   "metadata": {
    "application/vnd.databricks.v1+cell": {
     "cellMetadata": {},
     "inputWidgets": {},
     "nuid": "d4753aa9-0780-4844-a79a-41d9d04ea555",
     "showTitle": false,
     "title": ""
    }
   },
   "outputs": [],
   "source": [
    "################# 5. Model development   ##############"
   ]
  },
  {
   "cell_type": "code",
   "execution_count": 55,
   "metadata": {},
   "outputs": [],
   "source": [
    "########################################################"
   ]
  },
  {
   "cell_type": "code",
   "execution_count": null,
   "metadata": {},
   "outputs": [],
   "source": []
  },
  {
   "cell_type": "code",
   "execution_count": 56,
   "metadata": {},
   "outputs": [],
   "source": [
    "################# 1. LogisticRegression ###################"
   ]
  },
  {
   "cell_type": "code",
   "execution_count": 57,
   "metadata": {},
   "outputs": [],
   "source": [
    "df1 = df.sample(False, 0.01, seed=123)\n"
   ]
  },
  {
   "cell_type": "code",
   "execution_count": 58,
   "metadata": {
    "application/vnd.databricks.v1+cell": {
     "cellMetadata": {},
     "inputWidgets": {},
     "nuid": "a4eb1c27-0c5f-4dbd-8d51-3b11496f6b71",
     "showTitle": false,
     "title": ""
    }
   },
   "outputs": [],
   "source": [
    "# Split data into train data and test data\n",
    "(traindf, testdf) = df1.randomSplit([0.8, 0.2])"
   ]
  },
  {
   "cell_type": "code",
   "execution_count": null,
   "metadata": {
    "application/vnd.databricks.v1+cell": {
     "cellMetadata": {},
     "inputWidgets": {},
     "nuid": "dc0ef009-3a78-4e35-9bc3-d78fd47a493e",
     "showTitle": false,
     "title": ""
    }
   },
   "outputs": [],
   "source": []
  },
  {
   "cell_type": "code",
   "execution_count": 59,
   "metadata": {
    "application/vnd.databricks.v1+cell": {
     "cellMetadata": {},
     "inputWidgets": {},
     "nuid": "df3d1edd-2508-46f5-a3cd-2bc65c34e061",
     "showTitle": false,
     "title": ""
    }
   },
   "outputs": [],
   "source": [
    "from pyspark.ml.classification import LogisticRegression\n",
    "from pyspark.ml.evaluation import BinaryClassificationEvaluator\n",
    "from pyspark.ml.tuning import CrossValidator, ParamGridBuilder\n",
    "\n",
    "# Create the Logistic Regression model\n",
    "lr = LogisticRegression(labelCol=\"Response\", featuresCol=\"pca_features\")\n",
    "\n",
    "# Define the parameter grid to search over\n",
    "paramGrid = (ParamGridBuilder()\n",
    "             .addGrid(lr.regParam, [0.1, 0.01, 0.001])\n",
    "             .addGrid(lr.elasticNetParam, [0.0, 0.5, 1.0])\n",
    "             .build())\n",
    "\n",
    "# Define the binary classification evaluator\n",
    "evaluator = BinaryClassificationEvaluator(labelCol=\"Response\")\n",
    "\n",
    "# Create the cross-validator\n",
    "cv = CrossValidator(estimator=lr, evaluator=evaluator, estimatorParamMaps=paramGrid, numFolds=2)\n",
    "\n",
    "# Fit the cross-validator to the data\n",
    "cvModel = cv.fit(traindf)\n",
    "\n",
    "# Extract the best model\n",
    "bestModel = cvModel.bestModel\n",
    "\n",
    "#Transform the test data using the best model to make predictions\n",
    "predictions = bestModel.transform(testdf)\n",
    "\n"
   ]
  },
  {
   "cell_type": "code",
   "execution_count": 60,
   "metadata": {
    "application/vnd.databricks.v1+cell": {
     "cellMetadata": {},
     "inputWidgets": {},
     "nuid": "5c535ac2-796d-4822-b30b-edd78a382070",
     "showTitle": false,
     "title": ""
    }
   },
   "outputs": [
    {
     "name": "stdout",
     "output_type": "stream",
     "text": [
      "Accuracy:  52.85%\n",
      "Precision:  42.77%\n"
     ]
    }
   ],
   "source": [
    "from pyspark.ml.evaluation import BinaryClassificationEvaluator, MulticlassClassificationEvaluator\n",
    "from pyspark.mllib.evaluation import MulticlassMetrics\n",
    "\n",
    "evaluator = MulticlassClassificationEvaluator(metricName=\"accuracy\", labelCol = 'Response')\n",
    "accuracy_lr = evaluator.evaluate(predictions)\n",
    "print(\"Accuracy: \", \"{:.2f}%\".format(accuracy_lr * 100))\n",
    "\n",
    "evaluator = BinaryClassificationEvaluator(labelCol='Response', metricName='areaUnderPR')\n",
    "precision_lr = evaluator.evaluate(predictions)\n",
    "print(\"Precision: \", \"{:.2f}%\".format(accuracy_lr * 100))\n"
   ]
  },
  {
   "cell_type": "code",
   "execution_count": 62,
   "metadata": {
    "application/vnd.databricks.v1+cell": {
     "cellMetadata": {},
     "inputWidgets": {},
     "nuid": "45157eb3-de56-445d-91eb-695bfa027772",
     "showTitle": false,
     "title": ""
    }
   },
   "outputs": [
    {
     "data": {
      "text/plain": [
       "<matplotlib.colorbar.Colorbar at 0x7f80481b1c60>"
      ]
     },
     "execution_count": 62,
     "metadata": {},
     "output_type": "execute_result"
    },
    {
     "data": {
      "image/png": "[encoded data removed]",
      "text/plain": [
       "<Figure size 720x480 with 2 Axes>"
      ]
     },
     "metadata": {},
     "output_type": "display_data"
    }
   ],
   "source": [
    "## Display confusion matrix\n",
    "confusion_matrix_pd = confusion_matrix.toPandas().astype(float)\n",
    "confusion_matrix_np = confusion_matrix_pd.to_numpy()\n",
    "\n",
    "import matplotlib.pyplot as plt\n",
    "plt.matshow(confusion_matrix_np)\n",
    "plt.colorbar()\n"
   ]
  },
  {
   "cell_type": "code",
   "execution_count": null,
   "metadata": {},
   "outputs": [],
   "source": []
  },
  {
   "cell_type": "code",
   "execution_count": 63,
   "metadata": {},
   "outputs": [],
   "source": [
    "##################################################################"
   ]
  },
  {
   "cell_type": "code",
   "execution_count": 64,
   "metadata": {},
   "outputs": [],
   "source": [
    "###### 2. ENSEMBLE STACKING   #####################################"
   ]
  },
  {
   "cell_type": "code",
   "execution_count": 65,
   "metadata": {},
   "outputs": [],
   "source": [
    "########  First layer 1.XGBoosta and 2.RandomForestClassifier ############"
   ]
  },
  {
   "cell_type": "code",
   "execution_count": null,
   "metadata": {},
   "outputs": [],
   "source": []
  },
  {
   "cell_type": "code",
   "execution_count": 66,
   "metadata": {},
   "outputs": [],
   "source": [
    "# Split data into train data and test data\n",
    "(training_data, test_data) = df.randomSplit([0.8, 0.2], seed=42)\n"
   ]
  },
  {
   "cell_type": "code",
   "execution_count": 67,
   "metadata": {},
   "outputs": [],
   "source": [
    "\n",
    "from pyspark.ml.classification import RandomForestClassifier\n",
    "from xgboost.spark import SparkXGBRegressor\n",
    "\n",
    "rf = RandomForestClassifier(labelCol=\"Response\", featuresCol=\"pca_features\", numTrees=20)\n",
    "method_name = 'rf'\n",
    "rf.setPredictionCol(\"prediction_\" + method_name)\n",
    "rf.setProbabilityCol(\"probability_\" + method_name)\n",
    "rf.setRawPredictionCol(\"raw_prediction_\" + method_name)\n",
    "\n",
    "xgb_regressor = SparkXGBRegressor(\n",
    "  features_col=\"pca_features\",\n",
    "  label_col=\"Response\",\n",
    "  num_workers=2,\n",
    ")\n",
    "\n",
    "methods = {\"xgboost\": xgb_regressor,\n",
    "          \"random_forest\": rf}\n"
   ]
  },
  {
   "cell_type": "code",
   "execution_count": null,
   "metadata": {},
   "outputs": [],
   "source": [
    "from pyspark.ml.evaluation import BinaryClassificationEvaluator\n",
    "\n",
    "fitted_models ={}\n",
    "\n",
    "# Iterate each model and evaluate the result\n",
    "for method_name, method in methods.items():\n",
    "    print('Executing ' + method_name)\n",
    "    fitted_models[method_name] = method.fit(training_data)\n",
    "    test_data = fitted_models[method_name].transform(test_data)\n",
    "    \n",
    "    # Evaluate the result\n",
    "    evaluator = BinaryClassificationEvaluator(rawPredictionCol=(\"probability_rf\" if method_name =='random_forest' else 'prediction'), labelCol=\"Response\")\n",
    "    if method_name =='random_forest':    \n",
    "        accuracy_rf = evaluator.evaluate(test_data)\n",
    "        print(\"Accuracy: \", \"{:.2f}%\".format(accuracy_rf * 100))\n",
    "    else:\n",
    "        accuracy_xgb = evaluator.evaluate(test_data)\n",
    "        print(\"Accuracy: \", \"{:.2f}%\".format(accuracy_xgb * 100))\n",
    "    \n",
    "    evaluator = BinaryClassificationEvaluator(rawPredictionCol=(\"probability_rf\" if method_name =='random_forest' else 'prediction'), metricName='areaUnderPR',labelCol=\"Response\")\n",
    "    if method_name =='random_forest':    \n",
    "        precision_rf = evaluator.evaluate(test_data)\n",
    "        print(\"Precision: \", \"{:.2f}%\".format(precision_rf * 100))\n",
    "    else:\n",
    "        precision_xgb = evaluator.evaluate(test_data)\n",
    "        print(\"Precision: \", \"{:.2f}%\".format(precision_xgb * 100))\n"
   ]
  },
  {
   "cell_type": "code",
   "execution_count": 69,
   "metadata": {},
   "outputs": [],
   "source": [
    "###  Ensemble Second layer model as a Random Forest Classifier ######"
   ]
  },
  {
   "cell_type": "code",
   "execution_count": 70,
   "metadata": {},
   "outputs": [],
   "source": [
    "from pyspark.ml.evaluation import BinaryClassificationEvaluator\n",
    "\n",
    "# Select the variables from the test data to use for the second layer model\n",
    "prediction_vars = [var for var in test_data.columns if var in (\"probability_rf\", \"prediction\")]\n",
    "\n",
    "# Assemble the selected variables into a vector for the second layer model\n",
    "vs_second_layers = VectorAssembler(inputCols= prediction_vars, outputCol= \"second_layer_input\")\n",
    "test_data_transformed = vs_second_layers.transform(test_data)\n",
    "\n",
    "# Define the second layer model as a Random Forest Classifier\n",
    "second_layer = RandomForestClassifier(featuresCol= \"second_layer_input\", labelCol= \"Response\",  probabilityCol = \"second_layer_output\")\n",
    "\n",
    "# Set the prediction and raw prediction columns for the second layer model\n",
    "second_layer.setPredictionCol(\"prediction_second_layer\")\n",
    "second_layer.setRawPredictionCol(\"raw_prediction_second_layer\" )\n",
    "\n",
    "# Fit the second layer model to the transformed test data\n",
    "model_second_layer = second_layer.fit(test_data_transformed)\n",
    "\n",
    "# Generate predictions for the transformed test data using the second layer model\n",
    "predictions_2 = model_second_layer.transform(test_data_transformed)\n"
   ]
  },
  {
   "cell_type": "code",
   "execution_count": 71,
   "metadata": {},
   "outputs": [
    {
     "name": "stdout",
     "output_type": "stream",
     "text": [
      "Accuracy:  82.32%\n",
      "Precision:  80.95%\n"
     ]
    }
   ],
   "source": [
    "# Evaluate Accuracy and Precision\n",
    "evaluator = BinaryClassificationEvaluator(rawPredictionCol='raw_prediction_second_layer', labelCol='Response')\n",
    "accuracy = evaluator.evaluate(predictions_2)\n",
    "\n",
    "evaluator = BinaryClassificationEvaluator(rawPredictionCol='raw_prediction_second_layer', labelCol='Response', metricName='areaUnderPR')\n",
    "precision = evaluator.evaluate(predictions_2)\n",
    "\n",
    "print(\"Accuracy: \", \"{:.2f}%\".format(accuracy * 100))\n",
    "print(\"Precision: \", \"{:.2f}%\".format(precision * 100))\n"
   ]
  },
  {
   "cell_type": "code",
   "execution_count": null,
   "metadata": {},
   "outputs": [],
   "source": [
    "# Evaluate Accuracy and Precision\n",
    "evaluator = BinaryClassificationEvaluator(rawPredictionCol='raw_prediction_second_layer', labelCol='Response')\n",
    "accuracy = evaluator.evaluate(predictions_2)\n",
    "\n",
    "evaluator = BinaryClassificationEvaluator(rawPredictionCol='raw_prediction_second_layer', labelCol='Response', metricName='areaUnderPR')\n",
    "precision = evaluator.evaluate(predictions_2)\n",
    "\n",
    "print(\"Accuracy: \", \"{:.2f}%\".format(accuracy * 100))\n",
    "print(\"Precision: \", \"{:.2f}%\".format(precision * 100))"
   ]
  },
  {
   "cell_type": "code",
   "execution_count": null,
   "metadata": {},
   "outputs": [],
   "source": [
    "###### Compare the performance of the algorithms"
   ]
  },
  {
   "cell_type": "code",
   "execution_count": null,
   "metadata": {},
   "outputs": [],
   "source": []
  },
  {
   "cell_type": "code",
   "execution_count": null,
   "metadata": {},
   "outputs": [],
   "source": []
  },
  {
   "cell_type": "code",
   "execution_count": null,
   "metadata": {},
   "outputs": [],
   "source": []
  },
  {
   "cell_type": "code",
   "execution_count": 72,
   "metadata": {},
   "outputs": [],
   "source": [
    "#### Deployment ####"
   ]
  },
  {
   "cell_type": "code",
   "execution_count": 73,
   "metadata": {},
   "outputs": [
    {
     "name": "stdout",
     "output_type": "stream",
     "text": [
      "Collecting mlflow\n",
      "  Downloading mlflow-2.1.1-py3-none-any.whl (16.7 MB)\n",
      "\u001b[2K     \u001b[90m━━━━━━━━━━━━━━━━━━━━━━━━━━━━━━━━━━━━━━━\u001b[0m \u001b[32m16.7/16.7 MB\u001b[0m \u001b[31m327.4 kB/s\u001b[0m eta \u001b[36m0:00:00\u001b[0m00:01\u001b[0m00:02\u001b[0m\n",
      "\u001b[?25hRequirement already satisfied: alembic<2 in /opt/conda/lib/python3.10/site-packages (from mlflow) (1.9.1)\n",
      "Requirement already satisfied: markdown<4,>=3.3 in /opt/conda/lib/python3.10/site-packages (from mlflow) (3.4.1)\n",
      "Requirement already satisfied: pandas<2 in /opt/conda/lib/python3.10/site-packages (from mlflow) (1.5.3)\n",
      "Requirement already satisfied: numpy<2 in /opt/conda/lib/python3.10/site-packages (from mlflow) (1.23.5)\n",
      "Collecting importlib-metadata!=4.7.0,<6,>=3.7.0\n",
      "  Downloading importlib_metadata-5.2.0-py3-none-any.whl (21 kB)\n",
      "Collecting databricks-cli<1,>=0.8.7\n",
      "  Downloading databricks-cli-0.17.4.tar.gz (82 kB)\n",
      "\u001b[2K     \u001b[90m━━━━━━━━━━━━━━━━━━━━━━━━━━━━━━━━━━━━━━━\u001b[0m \u001b[32m82.3/82.3 kB\u001b[0m \u001b[31m386.2 kB/s\u001b[0m eta \u001b[36m0:00:00\u001b[0m00:01\u001b[0m00:01\u001b[0m\n",
      "\u001b[?25h  Preparing metadata (setup.py) ... \u001b[?25ldone\n",
      "\u001b[?25hRequirement already satisfied: pyyaml<7,>=5.1 in /opt/conda/lib/python3.10/site-packages (from mlflow) (6.0)\n",
      "Collecting gitpython<4,>=2.1.0\n",
      "  Downloading GitPython-3.1.30-py3-none-any.whl (184 kB)\n",
      "\u001b[2K     \u001b[90m━━━━━━━━━━━━━━━━━━━━━━━━━━━━━━━━━━━━━\u001b[0m \u001b[32m184.0/184.0 kB\u001b[0m \u001b[31m316.9 kB/s\u001b[0m eta \u001b[36m0:00:00\u001b[0ma \u001b[36m0:00:01\u001b[0m\n",
      "\u001b[?25hCollecting sqlparse<1,>=0.4.0\n",
      "  Downloading sqlparse-0.4.3-py3-none-any.whl (42 kB)\n",
      "\u001b[2K     \u001b[90m━━━━━━━━━━━━━━━━━━━━━━━━━━━━━━━━━━━━━━━\u001b[0m \u001b[32m42.8/42.8 kB\u001b[0m \u001b[31m222.0 kB/s\u001b[0m eta \u001b[36m0:00:00\u001b[0ma \u001b[36m0:00:01\u001b[0m\n",
      "\u001b[?25hRequirement already satisfied: pyarrow<11,>=4.0.0 in /opt/conda/lib/python3.10/site-packages (from mlflow) (10.0.1)\n",
      "Collecting shap<1,>=0.40\n",
      "  Downloading shap-0.41.0-cp310-cp310-manylinux_2_12_x86_64.manylinux2010_x86_64.whl (572 kB)\n",
      "\u001b[2K     \u001b[90m━━━━━━━━━━━━━━━━━━━━━━━━━━━━━━━━━━━━━\u001b[0m \u001b[32m572.6/572.6 kB\u001b[0m \u001b[31m412.2 kB/s\u001b[0m eta \u001b[36m0:00:00\u001b[0ma \u001b[36m0:00:01\u001b[0m\n",
      "\u001b[?25hRequirement already satisfied: cloudpickle<3 in /opt/conda/lib/python3.10/site-packages (from mlflow) (2.2.1)\n",
      "Requirement already satisfied: pytz<2023 in /opt/conda/lib/python3.10/site-packages (from mlflow) (2022.7.1)\n",
      "Requirement already satisfied: Jinja2<4,>=2.11 in /opt/conda/lib/python3.10/site-packages (from mlflow) (3.1.2)\n",
      "Requirement already satisfied: click<9,>=7.0 in /opt/conda/lib/python3.10/site-packages (from mlflow) (8.1.3)\n",
      "Requirement already satisfied: scikit-learn<2 in /opt/conda/lib/python3.10/site-packages (from mlflow) (1.2.0)\n",
      "Requirement already satisfied: entrypoints<1 in /opt/conda/lib/python3.10/site-packages (from mlflow) (0.4)\n",
      "Collecting packaging<23\n",
      "  Downloading packaging-22.0-py3-none-any.whl (42 kB)\n",
      "\u001b[2K     \u001b[90m━━━━━━━━━━━━━━━━━━━━━━━━━━━━━━━━━━━━━━━\u001b[0m \u001b[32m42.6/42.6 kB\u001b[0m \u001b[31m741.3 kB/s\u001b[0m eta \u001b[36m0:00:00\u001b[0m:--:--\u001b[0m\n",
      "\u001b[?25hRequirement already satisfied: sqlalchemy<2,>=1.4.0 in /opt/conda/lib/python3.10/site-packages (from mlflow) (1.4.46)\n",
      "Collecting gunicorn<21\n",
      "  Downloading gunicorn-20.1.0-py3-none-any.whl (79 kB)\n",
      "\u001b[2K     \u001b[90m━━━━━━━━━━━━━━━━━━━━━━━━━━━━━━━━━━━━━━━\u001b[0m \u001b[32m79.5/79.5 kB\u001b[0m \u001b[31m430.5 kB/s\u001b[0m eta \u001b[36m0:00:00\u001b[0ma \u001b[36m0:00:01\u001b[0m\n",
      "\u001b[?25hRequirement already satisfied: scipy<2 in /opt/conda/lib/python3.10/site-packages (from mlflow) (1.10.0)\n",
      "Requirement already satisfied: matplotlib<4 in /opt/conda/lib/python3.10/site-packages (from mlflow) (3.6.3)\n",
      "Collecting querystring-parser<2\n",
      "  Downloading querystring_parser-1.2.4-py2.py3-none-any.whl (7.9 kB)\n",
      "Requirement already satisfied: requests<3,>=2.17.3 in /opt/conda/lib/python3.10/site-packages (from mlflow) (2.28.2)\n",
      "Collecting docker<7,>=4.0.0\n",
      "  Downloading docker-6.0.1-py3-none-any.whl (147 kB)\n",
      "\u001b[2K     \u001b[90m━━━━━━━━━━━━━━━━━━━━━━━━━━━━━━━━━━━━━\u001b[0m \u001b[32m147.5/147.5 kB\u001b[0m \u001b[31m536.9 kB/s\u001b[0m eta \u001b[36m0:00:00\u001b[0ma \u001b[36m0:00:01\u001b[0m\n",
      "\u001b[?25hCollecting Flask<3\n",
      "  Downloading Flask-2.2.2-py3-none-any.whl (101 kB)\n",
      "\u001b[2K     \u001b[90m━━━━━━━━━━━━━━━━━━━━━━━━━━━━━━━━━━━━━\u001b[0m \u001b[32m101.5/101.5 kB\u001b[0m \u001b[31m363.7 kB/s\u001b[0m eta \u001b[36m0:00:00\u001b[0ma \u001b[36m0:00:01\u001b[0m\n",
      "\u001b[?25hRequirement already satisfied: protobuf<5,>=3.12.0 in /opt/conda/lib/python3.10/site-packages (from mlflow) (3.19.6)\n",
      "Requirement already satisfied: Mako in /opt/conda/lib/python3.10/site-packages (from alembic<2->mlflow) (1.2.4)\n",
      "Requirement already satisfied: pyjwt>=1.7.0 in /opt/conda/lib/python3.10/site-packages (from databricks-cli<1,>=0.8.7->mlflow) (2.6.0)\n",
      "Requirement already satisfied: oauthlib>=3.1.0 in /opt/conda/lib/python3.10/site-packages (from databricks-cli<1,>=0.8.7->mlflow) (3.2.2)\n",
      "Collecting tabulate>=0.7.7\n",
      "  Downloading tabulate-0.9.0-py3-none-any.whl (35 kB)\n",
      "Requirement already satisfied: six>=1.10.0 in /opt/conda/lib/python3.10/site-packages (from databricks-cli<1,>=0.8.7->mlflow) (1.16.0)\n",
      "Requirement already satisfied: websocket-client>=0.32.0 in /opt/conda/lib/python3.10/site-packages (from docker<7,>=4.0.0->mlflow) (1.4.2)\n",
      "Requirement already satisfied: urllib3>=1.26.0 in /opt/conda/lib/python3.10/site-packages (from docker<7,>=4.0.0->mlflow) (1.26.14)\n",
      "Collecting itsdangerous>=2.0\n",
      "  Downloading itsdangerous-2.1.2-py3-none-any.whl (15 kB)\n",
      "Requirement already satisfied: Werkzeug>=2.2.2 in /opt/conda/lib/python3.10/site-packages (from Flask<3->mlflow) (2.2.2)\n",
      "Collecting gitdb<5,>=4.0.1\n",
      "  Downloading gitdb-4.0.10-py3-none-any.whl (62 kB)\n",
      "\u001b[2K     \u001b[90m━━━━━━━━━━━━━━━━━━━━━━━━━━━━━━━━━━━━━━━\u001b[0m \u001b[32m62.7/62.7 kB\u001b[0m \u001b[31m921.4 kB/s\u001b[0m eta \u001b[36m0:00:00\u001b[0m:--:--\u001b[0m\n",
      "\u001b[?25hRequirement already satisfied: setuptools>=3.0 in /opt/conda/lib/python3.10/site-packages (from gunicorn<21->mlflow) (66.1.1)\n",
      "Requirement already satisfied: zipp>=0.5 in /opt/conda/lib/python3.10/site-packages (from importlib-metadata!=4.7.0,<6,>=3.7.0->mlflow) (3.11.0)\n",
      "Requirement already satisfied: MarkupSafe>=2.0 in /opt/conda/lib/python3.10/site-packages (from Jinja2<4,>=2.11->mlflow) (2.1.2)\n",
      "Requirement already satisfied: pillow>=6.2.0 in /opt/conda/lib/python3.10/site-packages (from matplotlib<4->mlflow) (9.4.0)\n",
      "Requirement already satisfied: cycler>=0.10 in /opt/conda/lib/python3.10/site-packages (from matplotlib<4->mlflow) (0.11.0)\n",
      "Requirement already satisfied: kiwisolver>=1.0.1 in /opt/conda/lib/python3.10/site-packages (from matplotlib<4->mlflow) (1.4.4)\n",
      "Requirement already satisfied: contourpy>=1.0.1 in /opt/conda/lib/python3.10/site-packages (from matplotlib<4->mlflow) (1.0.7)\n",
      "Requirement already satisfied: pyparsing>=2.2.1 in /opt/conda/lib/python3.10/site-packages (from matplotlib<4->mlflow) (3.0.9)\n",
      "Requirement already satisfied: fonttools>=4.22.0 in /opt/conda/lib/python3.10/site-packages (from matplotlib<4->mlflow) (4.38.0)\n",
      "Requirement already satisfied: python-dateutil>=2.7 in /opt/conda/lib/python3.10/site-packages (from matplotlib<4->mlflow) (2.8.2)\n",
      "Requirement already satisfied: charset-normalizer<4,>=2 in /opt/conda/lib/python3.10/site-packages (from requests<3,>=2.17.3->mlflow) (2.1.1)\n",
      "Requirement already satisfied: certifi>=2017.4.17 in /opt/conda/lib/python3.10/site-packages (from requests<3,>=2.17.3->mlflow) (2022.12.7)\n",
      "Requirement already satisfied: idna<4,>=2.5 in /opt/conda/lib/python3.10/site-packages (from requests<3,>=2.17.3->mlflow) (3.4)\n",
      "Requirement already satisfied: joblib>=1.1.1 in /opt/conda/lib/python3.10/site-packages (from scikit-learn<2->mlflow) (1.2.0)\n",
      "Requirement already satisfied: threadpoolctl>=2.0.0 in /opt/conda/lib/python3.10/site-packages (from scikit-learn<2->mlflow) (3.1.0)\n",
      "Collecting slicer==0.0.7\n",
      "  Downloading slicer-0.0.7-py3-none-any.whl (14 kB)\n",
      "Requirement already satisfied: tqdm>4.25.0 in /opt/conda/lib/python3.10/site-packages (from shap<1,>=0.40->mlflow) (4.64.1)\n",
      "Requirement already satisfied: numba in /opt/conda/lib/python3.10/site-packages (from shap<1,>=0.40->mlflow) (0.56.4)\n",
      "Requirement already satisfied: greenlet!=0.4.17 in /opt/conda/lib/python3.10/site-packages (from sqlalchemy<2,>=1.4.0->mlflow) (2.0.1)\n",
      "Collecting smmap<6,>=3.0.1\n",
      "  Downloading smmap-5.0.0-py3-none-any.whl (24 kB)\n",
      "Requirement already satisfied: llvmlite<0.40,>=0.39.0dev0 in /opt/conda/lib/python3.10/site-packages (from numba->shap<1,>=0.40->mlflow) (0.39.1)\n",
      "Building wheels for collected packages: databricks-cli\n",
      "  Building wheel for databricks-cli (setup.py) ... \u001b[?25ldone\n",
      "\u001b[?25h  Created wheel for databricks-cli: filename=databricks_cli-0.17.4-py3-none-any.whl size=142875 sha256=79578126797525978aeb9c27ee4ab2a40279bca1bcb231ca1603e84aa652348f\n",
      "  Stored in directory: /home/jovyan/.cache/pip/wheels/c9/29/c3/b68f17587d159cc5b55910cbf7302bca0ec27e70207436d2f0\n",
      "Successfully built databricks-cli\n",
      "Installing collected packages: tabulate, sqlparse, smmap, slicer, querystring-parser, packaging, itsdangerous, importlib-metadata, gunicorn, gitdb, Flask, docker, databricks-cli, shap, gitpython, mlflow\n",
      "  Attempting uninstall: packaging\n",
      "    Found existing installation: packaging 23.0\n",
      "    Uninstalling packaging-23.0:\n",
      "      Successfully uninstalled packaging-23.0\n",
      "  Attempting uninstall: importlib-metadata\n",
      "    Found existing installation: importlib-metadata 6.0.0\n",
      "    Uninstalling importlib-metadata-6.0.0:\n",
      "      Successfully uninstalled importlib-metadata-6.0.0\n",
      "Successfully installed Flask-2.2.2 databricks-cli-0.17.4 docker-6.0.1 gitdb-4.0.10 gitpython-3.1.30 gunicorn-20.1.0 importlib-metadata-5.2.0 itsdangerous-2.1.2 mlflow-2.1.1 packaging-22.0 querystring-parser-1.2.4 shap-0.41.0 slicer-0.0.7 smmap-5.0.0 sqlparse-0.4.3 tabulate-0.9.0\n"
     ]
    }
   ],
   "source": [
    "!pip install mlflow"
   ]
  },
  {
   "cell_type": "code",
   "execution_count": 74,
   "metadata": {},
   "outputs": [
    {
     "ename": "_SklearnCustomModelPicklingError",
     "evalue": "Pickling custom sklearn model RandomForestClassificationModel failed when saving model: cannot pickle '_thread.RLock' object",
     "output_type": "error",
     "traceback": [
      "\u001b[0;31m---------------------------------------------------------------------------\u001b[0m",
      "\u001b[0;31mTypeError\u001b[0m                                 Traceback (most recent call last)",
      "File \u001b[0;32m/opt/conda/lib/python3.10/site-packages/mlflow/sklearn/__init__.py:527\u001b[0m, in \u001b[0;36m_dump_model\u001b[0;34m(pickle_lib, sk_model, out)\u001b[0m\n\u001b[1;32m    523\u001b[0m \u001b[38;5;28;01mtry\u001b[39;00m:\n\u001b[1;32m    524\u001b[0m     \u001b[38;5;66;03m# Using python's default protocol to optimize compatibility.\u001b[39;00m\n\u001b[1;32m    525\u001b[0m     \u001b[38;5;66;03m# Otherwise cloudpickle uses latest protocol leading to incompatibilities.\u001b[39;00m\n\u001b[1;32m    526\u001b[0m     \u001b[38;5;66;03m# See https://github.com/mlflow/mlflow/issues/5419\u001b[39;00m\n\u001b[0;32m--> 527\u001b[0m     \u001b[43mpickle_lib\u001b[49m\u001b[38;5;241;43m.\u001b[39;49m\u001b[43mdump\u001b[49m\u001b[43m(\u001b[49m\u001b[43msk_model\u001b[49m\u001b[43m,\u001b[49m\u001b[43m \u001b[49m\u001b[43mout\u001b[49m\u001b[43m,\u001b[49m\u001b[43m \u001b[49m\u001b[43mprotocol\u001b[49m\u001b[38;5;241;43m=\u001b[39;49m\u001b[43mpickle\u001b[49m\u001b[38;5;241;43m.\u001b[39;49m\u001b[43mDEFAULT_PROTOCOL\u001b[49m\u001b[43m)\u001b[49m\n\u001b[1;32m    528\u001b[0m \u001b[38;5;28;01mexcept\u001b[39;00m (pickle\u001b[38;5;241m.\u001b[39mPicklingError, \u001b[38;5;167;01mTypeError\u001b[39;00m, \u001b[38;5;167;01mAttributeError\u001b[39;00m) \u001b[38;5;28;01mas\u001b[39;00m e:\n",
      "File \u001b[0;32m/opt/conda/lib/python3.10/site-packages/cloudpickle/cloudpickle_fast.py:57\u001b[0m, in \u001b[0;36mdump\u001b[0;34m(obj, file, protocol, buffer_callback)\u001b[0m\n\u001b[1;32m     46\u001b[0m \u001b[38;5;250m\u001b[39m\u001b[38;5;124;03m\"\"\"Serialize obj as bytes streamed into file\u001b[39;00m\n\u001b[1;32m     47\u001b[0m \n\u001b[1;32m     48\u001b[0m \u001b[38;5;124;03mprotocol defaults to cloudpickle.DEFAULT_PROTOCOL which is an alias to\u001b[39;00m\n\u001b[0;32m   (...)\u001b[0m\n\u001b[1;32m     53\u001b[0m \u001b[38;5;124;03mcompatibility with older versions of Python.\u001b[39;00m\n\u001b[1;32m     54\u001b[0m \u001b[38;5;124;03m\"\"\"\u001b[39;00m\n\u001b[1;32m     55\u001b[0m \u001b[43mCloudPickler\u001b[49m\u001b[43m(\u001b[49m\n\u001b[1;32m     56\u001b[0m \u001b[43m    \u001b[49m\u001b[43mfile\u001b[49m\u001b[43m,\u001b[49m\u001b[43m \u001b[49m\u001b[43mprotocol\u001b[49m\u001b[38;5;241;43m=\u001b[39;49m\u001b[43mprotocol\u001b[49m\u001b[43m,\u001b[49m\u001b[43m \u001b[49m\u001b[43mbuffer_callback\u001b[49m\u001b[38;5;241;43m=\u001b[39;49m\u001b[43mbuffer_callback\u001b[49m\n\u001b[0;32m---> 57\u001b[0m \u001b[43m\u001b[49m\u001b[43m)\u001b[49m\u001b[38;5;241;43m.\u001b[39;49m\u001b[43mdump\u001b[49m\u001b[43m(\u001b[49m\u001b[43mobj\u001b[49m\u001b[43m)\u001b[49m\n",
      "File \u001b[0;32m/opt/conda/lib/python3.10/site-packages/cloudpickle/cloudpickle_fast.py:632\u001b[0m, in \u001b[0;36mCloudPickler.dump\u001b[0;34m(self, obj)\u001b[0m\n\u001b[1;32m    631\u001b[0m \u001b[38;5;28;01mtry\u001b[39;00m:\n\u001b[0;32m--> 632\u001b[0m     \u001b[38;5;28;01mreturn\u001b[39;00m \u001b[43mPickler\u001b[49m\u001b[38;5;241;43m.\u001b[39;49m\u001b[43mdump\u001b[49m\u001b[43m(\u001b[49m\u001b[38;5;28;43mself\u001b[39;49m\u001b[43m,\u001b[49m\u001b[43m \u001b[49m\u001b[43mobj\u001b[49m\u001b[43m)\u001b[49m\n\u001b[1;32m    633\u001b[0m \u001b[38;5;28;01mexcept\u001b[39;00m \u001b[38;5;167;01mRuntimeError\u001b[39;00m \u001b[38;5;28;01mas\u001b[39;00m e:\n",
      "\u001b[0;31mTypeError\u001b[0m: cannot pickle '_thread.RLock' object",
      "\nDuring handling of the above exception, another exception occurred:\n",
      "\u001b[0;31m_SklearnCustomModelPicklingError\u001b[0m          Traceback (most recent call last)",
      "Cell \u001b[0;32mIn[74], line 3\u001b[0m\n\u001b[1;32m      1\u001b[0m \u001b[38;5;66;03m# Package the best model and its dependencies into an MLflow Model\u001b[39;00m\n\u001b[1;32m      2\u001b[0m \u001b[38;5;28;01mimport\u001b[39;00m \u001b[38;5;21;01mmlflow\u001b[39;00m\u001b[38;5;21;01m.\u001b[39;00m\u001b[38;5;21;01msklearn\u001b[39;00m\n\u001b[0;32m----> 3\u001b[0m \u001b[43mmlflow\u001b[49m\u001b[38;5;241;43m.\u001b[39;49m\u001b[43msklearn\u001b[49m\u001b[38;5;241;43m.\u001b[39;49m\u001b[43msave_model\u001b[49m\u001b[43m(\u001b[49m\u001b[43mmodel_second_layer\u001b[49m\u001b[43m,\u001b[49m\u001b[43m \u001b[49m\u001b[38;5;124;43m\"\u001b[39;49m\u001b[38;5;124;43mstacked_model\u001b[39;49m\u001b[38;5;124;43m\"\u001b[39;49m\u001b[43m)\u001b[49m\n\u001b[1;32m      5\u001b[0m \u001b[38;5;66;03m# Deploy the MLflow Model to a production environment\u001b[39;00m\n\u001b[1;32m      6\u001b[0m mlflow\u001b[38;5;241m.\u001b[39msklearn\u001b[38;5;241m.\u001b[39mdeploy(model_uri\u001b[38;5;241m=\u001b[39m\u001b[38;5;124m\"\u001b[39m\u001b[38;5;124mrandom_forest_model\u001b[39m\u001b[38;5;124m\"\u001b[39m, name\u001b[38;5;241m=\u001b[39m\u001b[38;5;124m\"\u001b[39m\u001b[38;5;124mbosch production line\u001b[39m\u001b[38;5;124m\"\u001b[39m, flavor\u001b[38;5;241m=\u001b[39m\u001b[38;5;124m\"\u001b[39m\u001b[38;5;124mscikit-learn\u001b[39m\u001b[38;5;124m\"\u001b[39m)\n",
      "File \u001b[0;32m/opt/conda/lib/python3.10/site-packages/mlflow/sklearn/__init__.py:258\u001b[0m, in \u001b[0;36msave_model\u001b[0;34m(sk_model, path, conda_env, code_paths, mlflow_model, serialization_format, signature, input_example, pip_requirements, extra_pip_requirements, pyfunc_predict_fn, metadata)\u001b[0m\n\u001b[1;32m    256\u001b[0m model_data_subpath \u001b[38;5;241m=\u001b[39m \u001b[38;5;124m\"\u001b[39m\u001b[38;5;124mmodel.pkl\u001b[39m\u001b[38;5;124m\"\u001b[39m\n\u001b[1;32m    257\u001b[0m model_data_path \u001b[38;5;241m=\u001b[39m os\u001b[38;5;241m.\u001b[39mpath\u001b[38;5;241m.\u001b[39mjoin(path, model_data_subpath)\n\u001b[0;32m--> 258\u001b[0m \u001b[43m_save_model\u001b[49m\u001b[43m(\u001b[49m\n\u001b[1;32m    259\u001b[0m \u001b[43m    \u001b[49m\u001b[43msk_model\u001b[49m\u001b[38;5;241;43m=\u001b[39;49m\u001b[43msk_model\u001b[49m\u001b[43m,\u001b[49m\n\u001b[1;32m    260\u001b[0m \u001b[43m    \u001b[49m\u001b[43moutput_path\u001b[49m\u001b[38;5;241;43m=\u001b[39;49m\u001b[43mmodel_data_path\u001b[49m\u001b[43m,\u001b[49m\n\u001b[1;32m    261\u001b[0m \u001b[43m    \u001b[49m\u001b[43mserialization_format\u001b[49m\u001b[38;5;241;43m=\u001b[39;49m\u001b[43mserialization_format\u001b[49m\u001b[43m,\u001b[49m\n\u001b[1;32m    262\u001b[0m \u001b[43m\u001b[49m\u001b[43m)\u001b[49m\n\u001b[1;32m    264\u001b[0m \u001b[38;5;66;03m# `PyFuncModel` only works for sklearn models that define a predict function\u001b[39;00m\n\u001b[1;32m    266\u001b[0m \u001b[38;5;28;01mif\u001b[39;00m \u001b[38;5;28mhasattr\u001b[39m(sk_model, pyfunc_predict_fn):\n",
      "File \u001b[0;32m/opt/conda/lib/python3.10/site-packages/mlflow/sklearn/__init__.py:549\u001b[0m, in \u001b[0;36m_save_model\u001b[0;34m(sk_model, output_path, serialization_format)\u001b[0m\n\u001b[1;32m    546\u001b[0m \u001b[38;5;28;01melif\u001b[39;00m serialization_format \u001b[38;5;241m==\u001b[39m SERIALIZATION_FORMAT_CLOUDPICKLE:\n\u001b[1;32m    547\u001b[0m     \u001b[38;5;28;01mimport\u001b[39;00m \u001b[38;5;21;01mcloudpickle\u001b[39;00m\n\u001b[0;32m--> 549\u001b[0m     \u001b[43m_dump_model\u001b[49m\u001b[43m(\u001b[49m\u001b[43mcloudpickle\u001b[49m\u001b[43m,\u001b[49m\u001b[43m \u001b[49m\u001b[43msk_model\u001b[49m\u001b[43m,\u001b[49m\u001b[43m \u001b[49m\u001b[43mout\u001b[49m\u001b[43m)\u001b[49m\n\u001b[1;32m    550\u001b[0m \u001b[38;5;28;01melse\u001b[39;00m:\n\u001b[1;32m    551\u001b[0m     \u001b[38;5;28;01mraise\u001b[39;00m MlflowException(\n\u001b[1;32m    552\u001b[0m         message\u001b[38;5;241m=\u001b[39m\u001b[38;5;124mf\u001b[39m\u001b[38;5;124m\"\u001b[39m\u001b[38;5;124mUnrecognized serialization format: \u001b[39m\u001b[38;5;132;01m{\u001b[39;00mserialization_format\u001b[38;5;132;01m}\u001b[39;00m\u001b[38;5;124m\"\u001b[39m,\n\u001b[1;32m    553\u001b[0m         error_code\u001b[38;5;241m=\u001b[39mINTERNAL_ERROR,\n\u001b[1;32m    554\u001b[0m     )\n",
      "File \u001b[0;32m/opt/conda/lib/python3.10/site-packages/mlflow/sklearn/__init__.py:530\u001b[0m, in \u001b[0;36m_dump_model\u001b[0;34m(pickle_lib, sk_model, out)\u001b[0m\n\u001b[1;32m    528\u001b[0m \u001b[38;5;28;01mexcept\u001b[39;00m (pickle\u001b[38;5;241m.\u001b[39mPicklingError, \u001b[38;5;167;01mTypeError\u001b[39;00m, \u001b[38;5;167;01mAttributeError\u001b[39;00m) \u001b[38;5;28;01mas\u001b[39;00m e:\n\u001b[1;32m    529\u001b[0m     \u001b[38;5;28;01mif\u001b[39;00m sk_model\u001b[38;5;241m.\u001b[39m\u001b[38;5;18m__class__\u001b[39m \u001b[38;5;129;01mnot\u001b[39;00m \u001b[38;5;129;01min\u001b[39;00m _gen_estimators_to_patch():\n\u001b[0;32m--> 530\u001b[0m         \u001b[38;5;28;01mraise\u001b[39;00m _SklearnCustomModelPicklingError(sk_model, e)\n\u001b[1;32m    531\u001b[0m     \u001b[38;5;28;01melse\u001b[39;00m:\n\u001b[1;32m    532\u001b[0m         \u001b[38;5;28;01mraise\u001b[39;00m\n",
      "\u001b[0;31m_SklearnCustomModelPicklingError\u001b[0m: Pickling custom sklearn model RandomForestClassificationModel failed when saving model: cannot pickle '_thread.RLock' object"
     ]
    }
   ],
   "source": []
  },
  {
   "cell_type": "code",
   "execution_count": null,
   "metadata": {},
   "outputs": [],
   "source": []
  },
  {
   "cell_type": "code",
   "execution_count": null,
   "metadata": {},
   "outputs": [],
   "source": [
    "#### Invoke the deployed mode"
   ]
  },
  {
   "cell_type": "code",
   "execution_count": null,
   "metadata": {},
   "outputs": [],
   "source": [
    "import requests\n",
    "import json\n",
    "\n",
    "# Make a prediction using the deployed MLflow Model\n",
    "data = [{'feature_1': 10, 'feature_2': 20, 'new_feature': 200}]\n",
    "response = requests.post(\"<MLflow REST API endpoint>/invocations\", json=data)\n",
    "\n",
    "# Print the prediction result\n",
    "prediction = json.loads(response.text)\n",
    "print(\"Prediction: \", prediction)\n"
   ]
  }
 ],
 "metadata": {
  "application/vnd.databricks.v1+notebook": {
   "dashboards": [],
   "language": "python",
   "notebookMetadata": {
    "mostRecentlyExecutedCommandWithImplicitDF": {
     "commandId": 1392357952314300,
     "dataframes": [
      "_sqldf"
     ]
    },
    "pythonIndentUnit": 4
   },
   "notebookName": "bosch_pipeline",
   "notebookOrigID": 3314194331205587,
   "widgets": {}
  },
  "kernelspec": {
   "display_name": "Python 3 (ipykernel)",
   "language": "python",
   "name": "python3"
  },
  "language_info": {
   "codemirror_mode": {
    "name": "ipython",
    "version": 3
   },
   "file_extension": ".py",
   "mimetype": "text/x-python",
   "name": "python",
   "nbconvert_exporter": "python",
   "pygments_lexer": "ipython3",
   "version": "3.10.8"
  }
 },
 "nbformat": 4,
 "nbformat_minor": 4
}
